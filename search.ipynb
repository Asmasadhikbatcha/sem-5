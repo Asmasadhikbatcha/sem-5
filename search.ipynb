{
 "cells": [
  {
   "cell_type": "markdown",
   "id": "17ff11b8-9e8c-4cd4-896e-e2641138657a",
   "metadata": {},
   "source": [
    "# breadth first search"
   ]
  },
  {
   "cell_type": "markdown",
   "id": "b840521d-524c-4912-8466-0b55d125058e",
   "metadata": {},
   "source": [
    "# queue operation"
   ]
  },
  {
   "cell_type": "raw",
   "id": "e450c874-47b4-4cb7-a647-1876d2e092ce",
   "metadata": {},
   "source": [
    "enqueue\n",
    "dequeue\n",
    "size\n",
    "front\n",
    "rear"
   ]
  },
  {
   "cell_type": "code",
   "execution_count": 1,
   "id": "1c030d8b-843f-438a-af15-924169aa9ad6",
   "metadata": {},
   "outputs": [],
   "source": [
    " from collections import deque"
   ]
  },
  {
   "cell_type": "code",
   "execution_count": 30,
   "id": "e7cc1421-3798-43fe-b475-a2aa19783cd8",
   "metadata": {},
   "outputs": [],
   "source": [
    "Q=deque([\"a\",\"b\",\"c\",\"d\"])"
   ]
  },
  {
   "cell_type": "code",
   "execution_count": 31,
   "id": "26843757-aa53-4ab9-ba00-f37d90c6e93c",
   "metadata": {},
   "outputs": [],
   "source": [
    "Q.appendleft(\"0\")"
   ]
  },
  {
   "cell_type": "code",
   "execution_count": 32,
   "id": "6f962f63-7f0e-4dc5-a352-1561e75aa0a2",
   "metadata": {},
   "outputs": [
    {
     "data": {
      "text/plain": [
       "deque(['0', 'a', 'b', 'c', 'd'])"
      ]
     },
     "execution_count": 32,
     "metadata": {},
     "output_type": "execute_result"
    }
   ],
   "source": [
    "Q"
   ]
  },
  {
   "cell_type": "code",
   "execution_count": 33,
   "id": "009c2504-e781-4098-9bd6-178d4c5b46f9",
   "metadata": {},
   "outputs": [],
   "source": [
    "Q.append(\"f\")"
   ]
  },
  {
   "cell_type": "code",
   "execution_count": 34,
   "id": "b4fb07b9-8ee6-4d9b-9395-ac6738dddcb1",
   "metadata": {},
   "outputs": [
    {
     "data": {
      "text/plain": [
       "deque(['0', 'a', 'b', 'c', 'd', 'f'])"
      ]
     },
     "execution_count": 34,
     "metadata": {},
     "output_type": "execute_result"
    }
   ],
   "source": [
    "Q"
   ]
  },
  {
   "cell_type": "code",
   "execution_count": 35,
   "id": "ecd51564-753f-4578-96e3-37023f48b07a",
   "metadata": {},
   "outputs": [
    {
     "data": {
      "text/plain": [
       "'0'"
      ]
     },
     "execution_count": 35,
     "metadata": {},
     "output_type": "execute_result"
    }
   ],
   "source": [
    "Q.popleft()"
   ]
  },
  {
   "cell_type": "code",
   "execution_count": 36,
   "id": "940a9c28-fc01-480c-836f-b7179c4d3e85",
   "metadata": {},
   "outputs": [
    {
     "data": {
      "text/plain": [
       "deque(['a', 'b', 'c', 'd', 'f'])"
      ]
     },
     "execution_count": 36,
     "metadata": {},
     "output_type": "execute_result"
    }
   ],
   "source": [
    "Q"
   ]
  },
  {
   "cell_type": "code",
   "execution_count": 38,
   "id": "6474b137-42df-4ec0-be61-94e157a83fbe",
   "metadata": {},
   "outputs": [
    {
     "data": {
      "text/plain": [
       "'d'"
      ]
     },
     "execution_count": 38,
     "metadata": {},
     "output_type": "execute_result"
    }
   ],
   "source": [
    "Q.pop()"
   ]
  },
  {
   "cell_type": "code",
   "execution_count": 39,
   "id": "01ec7b0c-5a2e-4883-a906-298b9dddaaad",
   "metadata": {},
   "outputs": [
    {
     "data": {
      "text/plain": [
       "deque(['a', 'b', 'c'])"
      ]
     },
     "execution_count": 39,
     "metadata": {},
     "output_type": "execute_result"
    }
   ],
   "source": [
    "Q"
   ]
  },
  {
   "cell_type": "markdown",
   "id": "26e0bca8-85e3-47ef-bbfe-f0d2b921859e",
   "metadata": {},
   "source": [
    "# this is our problem in the form of a graph "
   ]
  },
  {
   "cell_type": "code",
   "execution_count": 3,
   "id": "0aac727d-46b4-4de6-bc4d-a696f93b379d",
   "metadata": {},
   "outputs": [],
   "source": [
    "graph={\n",
    "    'shamira':['aasif','sharu'],\n",
    "    'aasif':['safrin'],\n",
    "    'safrin':['shakul','aasif'],\n",
    "    'sharu':['safrin','shakul'],\n",
    "    'shakul':['safrin','shamira']\n",
    "}\n",
    "    "
   ]
  },
  {
   "cell_type": "code",
   "execution_count": 4,
   "id": "946f3d80-397c-4923-865c-8e7e40149872",
   "metadata": {},
   "outputs": [
    {
     "data": {
      "text/plain": [
       "{'shamira': ['aasif', 'sharu'],\n",
       " 'aasif': ['safrin'],\n",
       " 'safrin': ['shakul', 'aasif'],\n",
       " 'sharu': ['safrin', 'shakul'],\n",
       " 'shakul': ['safrin', 'shamira']}"
      ]
     },
     "execution_count": 4,
     "metadata": {},
     "output_type": "execute_result"
    }
   ],
   "source": [
    "graph"
   ]
  },
  {
   "cell_type": "code",
   "execution_count": 5,
   "id": "ce1e5c23-e1e3-4e90-96e6-96fe893a6e56",
   "metadata": {},
   "outputs": [],
   "source": [
    "from collections import deque\n",
    "def bfs(graph,start,goal):\n",
    "    visted=[]\n",
    "    queue=deque([start])\n",
    "    while queue:\n",
    "        node=queue.popleft()\n",
    "        if node not in visted:\n",
    "            visted.append (node)\n",
    "            print('i have visted this node',node)\n",
    "            neighbours=graph[node]\n",
    "            if node == goal:\n",
    "                print('this my travel path',visted)\n",
    "            for neighbour in neighbours:\n",
    "                queue.append(neighbour)"
   ]
  },
  {
   "cell_type": "code",
   "execution_count": 6,
   "id": "de20d031-de18-46ff-a801-a6c24c1e2547",
   "metadata": {},
   "outputs": [
    {
     "name": "stdout",
     "output_type": "stream",
     "text": [
      "i have visted this node shamira\n",
      "i have visted this node aasif\n",
      "i have visted this node sharu\n",
      "i have visted this node safrin\n",
      "i have visted this node shakul\n",
      "this my travel path ['shamira', 'aasif', 'sharu', 'safrin', 'shakul']\n"
     ]
    }
   ],
   "source": [
    "bfs(graph,'shamira','shakul')"
   ]
  },
  {
   "cell_type": "code",
   "execution_count": null,
   "id": "d718f47e-be14-4f2f-8b8a-c6a560b3c36f",
   "metadata": {},
   "outputs": [],
   "source": []
  },
  {
   "cell_type": "code",
   "execution_count": null,
   "id": "c0111428-b358-4e30-bc2a-41d79bac722b",
   "metadata": {},
   "outputs": [],
   "source": []
  },
  {
   "cell_type": "code",
   "execution_count": null,
   "id": "7ce0e132-f490-4372-a444-f2623dd9e55e",
   "metadata": {},
   "outputs": [],
   "source": []
  }
 ],
 "metadata": {
  "kernelspec": {
   "display_name": "Python 3 (ipykernel)",
   "language": "python",
   "name": "python3"
  },
  "language_info": {
   "codemirror_mode": {
    "name": "ipython",
    "version": 3
   },
   "file_extension": ".py",
   "mimetype": "text/x-python",
   "name": "python",
   "nbconvert_exporter": "python",
   "pygments_lexer": "ipython3",
   "version": "3.11.7"
  }
 },
 "nbformat": 4,
 "nbformat_minor": 5
}
